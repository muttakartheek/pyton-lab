{
  "nbformat": 4,
  "nbformat_minor": 0,
  "metadata": {
    "colab": {
      "name": "Copy of Copy of Untitled0.ipynb",
      "provenance": [],
      "authorship_tag": "ABX9TyO0p6ZwthXSkpHvklrEvFJG",
      "include_colab_link": true
    },
    "kernelspec": {
      "name": "python3",
      "display_name": "Python 3"
    },
    "language_info": {
      "name": "python"
    }
  },
  "cells": [
    {
      "cell_type": "markdown",
      "metadata": {
        "id": "view-in-github",
        "colab_type": "text"
      },
      "source": [
        "<a href=\"https://colab.research.google.com/github/muttakartheek/pyton-lab/blob/main/Copy_of_Copy_of_Untitled0.ipynb\" target=\"_parent\"><img src=\"https://colab.research.google.com/assets/colab-badge.svg\" alt=\"Open In Colab\"/></a>"
      ]
    },
    {
      "cell_type": "code",
      "execution_count": null,
      "metadata": {
        "colab": {
          "base_uri": "https://localhost:8080/"
        },
        "id": "Ogv213OoGUJs",
        "outputId": "f7471df4-220f-4da7-ac26-fcfc7fd11752"
      },
      "outputs": [
        {
          "output_type": "stream",
          "name": "stdout",
          "text": [
            "hello world\n",
            "sri vasavi engineering college\n"
          ]
        }
      ],
      "source": [
        "print(\"hello world\")\n",
        "print(\"sri vasavi engineering college\")"
      ]
    },
    {
      "cell_type": "code",
      "source": [
        ""
      ],
      "metadata": {
        "id": "19Rp-1eq017z"
      },
      "execution_count": null,
      "outputs": []
    },
    {
      "cell_type": "code",
      "source": [
        "a=5\n",
        "b=3+5j\n",
        "c=19.25\n",
        "#conversion of int to float\n",
        "x=float0(b)\n",
        "print(\"x value is=\",x)"
      ],
      "metadata": {
        "colab": {
          "base_uri": "https://localhost:8080/",
          "height": 217
        },
        "id": "BTIsinjvkwO3",
        "outputId": "b499ed7b-399f-48ba-d0f6-061e3e7b7eda"
      },
      "execution_count": null,
      "outputs": [
        {
          "output_type": "error",
          "ename": "TypeError",
          "evalue": "ignored",
          "traceback": [
            "\u001b[0;31m---------------------------------------------------------------------------\u001b[0m",
            "\u001b[0;31mTypeError\u001b[0m                                 Traceback (most recent call last)",
            "\u001b[0;32m<ipython-input-7-e5ef432377f6>\u001b[0m in \u001b[0;36m<module>\u001b[0;34m()\u001b[0m\n\u001b[1;32m      3\u001b[0m \u001b[0mc\u001b[0m\u001b[0;34m=\u001b[0m\u001b[0;36m19.25\u001b[0m\u001b[0;34m\u001b[0m\u001b[0;34m\u001b[0m\u001b[0m\n\u001b[1;32m      4\u001b[0m \u001b[0;31m#conversion of int to float\u001b[0m\u001b[0;34m\u001b[0m\u001b[0;34m\u001b[0m\u001b[0;34m\u001b[0m\u001b[0m\n\u001b[0;32m----> 5\u001b[0;31m \u001b[0mx\u001b[0m\u001b[0;34m=\u001b[0m\u001b[0mfloat\u001b[0m\u001b[0;34m(\u001b[0m\u001b[0mb\u001b[0m\u001b[0;34m)\u001b[0m\u001b[0;34m\u001b[0m\u001b[0;34m\u001b[0m\u001b[0m\n\u001b[0m\u001b[1;32m      6\u001b[0m \u001b[0mprint\u001b[0m\u001b[0;34m(\u001b[0m\u001b[0;34m\"x value is=\"\u001b[0m\u001b[0;34m,\u001b[0m\u001b[0mx\u001b[0m\u001b[0;34m)\u001b[0m\u001b[0;34m\u001b[0m\u001b[0;34m\u001b[0m\u001b[0m\n",
            "\u001b[0;31mTypeError\u001b[0m: can't convert complex to float"
          ]
        }
      ]
    },
    {
      "cell_type": "markdown",
      "source": [
        "cannot convert complex to int and complex to float"
      ],
      "metadata": {
        "id": "WmaoIJSDlvte"
      }
    },
    {
      "cell_type": "code",
      "source": [
        "a=55555555599699\n",
        "b=21e6\n",
        "c=2+3j\n",
        "type(c)"
      ],
      "metadata": {
        "colab": {
          "base_uri": "https://localhost:8080/"
        },
        "id": "7yzz7wqvHvFt",
        "outputId": "7f5fa911-4044-4764-fb27-cc3d8c86b5c2"
      },
      "execution_count": null,
      "outputs": [
        {
          "output_type": "execute_result",
          "data": {
            "text/plain": [
              "complex"
            ]
          },
          "metadata": {},
          "execution_count": 15
        }
      ]
    },
    {
      "cell_type": "code",
      "source": [
        "a=\"0.6\"\n",
        "b=\"3+9j\"\n",
        "print(\"the result is\",a+b)\n",
        "type(a+b)"
      ],
      "metadata": {
        "colab": {
          "base_uri": "https://localhost:8080/"
        },
        "id": "sh4JTEvMKZIV",
        "outputId": "75a58a2d-e3bf-4742-e459-acf9b1f39f69"
      },
      "execution_count": null,
      "outputs": [
        {
          "output_type": "stream",
          "name": "stdout",
          "text": [
            "the result is 0.63+9j\n"
          ]
        },
        {
          "output_type": "execute_result",
          "data": {
            "text/plain": [
              "str"
            ]
          },
          "metadata": {},
          "execution_count": 33
        }
      ]
    },
    {
      "cell_type": "code",
      "source": [
        "a=int(input(\"enter the value of a\"))\n",
        "b=int(input(\"enter the value of b\"))\n",
        "print(\"the value of addtion\",a+b)\n",
        "type(a+b)"
      ],
      "metadata": {
        "colab": {
          "base_uri": "https://localhost:8080/"
        },
        "id": "9xbXWIn3NDRu",
        "outputId": "dae7977f-acc9-4ced-d179-d62bcef90ded"
      },
      "execution_count": null,
      "outputs": [
        {
          "output_type": "stream",
          "name": "stdout",
          "text": [
            "enter the value of a2\n",
            "enter the value of b3\n",
            "the value of addtion 5\n"
          ]
        },
        {
          "output_type": "execute_result",
          "data": {
            "text/plain": [
              "int"
            ]
          },
          "metadata": {},
          "execution_count": 39
        }
      ]
    },
    {
      "cell_type": "code",
      "source": [
        "print(\"hello\",\"world\",\"kartheek\",sep=\"\\!\")"
      ],
      "metadata": {
        "colab": {
          "base_uri": "https://localhost:8080/"
        },
        "id": "eWBP-WcWPy_U",
        "outputId": "b620d1b3-8915-43b6-8581-08bba16f4c65"
      },
      "execution_count": null,
      "outputs": [
        {
          "output_type": "stream",
          "name": "stdout",
          "text": [
            "hello\\!world\\!kartheek\n"
          ]
        }
      ]
    },
    {
      "cell_type": "code",
      "source": [
        ""
      ],
      "metadata": {
        "id": "tlyu0SDIoy-e"
      },
      "execution_count": null,
      "outputs": []
    },
    {
      "cell_type": "markdown",
      "source": [
        ""
      ],
      "metadata": {
        "id": "mvtKSPfeOUGl"
      }
    },
    {
      "cell_type": "markdown",
      "source": [
        "there are two types of tyoe conversions\n",
        "1).implict\n",
        "2)explict---------datatype(varaiable)"
      ],
      "metadata": {
        "id": "6AhRY-b_N77w"
      }
    },
    {
      "cell_type": "code",
      "source": [
        "#distance between the two points\n",
        "\n",
        "x1=int(input(\"enter x1 value=\"))\n",
        "x2=int(input(\"enter x2 value=\"))\n",
        "y1=int(input(\"enter y1 value=\"))\n",
        "y2=int(input(\"enter y2 value=\"))\n",
        "x=((x2-x1)**2)\n",
        "y=((y2-y1)**2)\n",
        "distance=((x+y)**0.5)\n",
        "print(\"the distance between is\",distance)\n"
      ],
      "metadata": {
        "id": "iukykqA2MbwC",
        "colab": {
          "base_uri": "https://localhost:8080/"
        },
        "outputId": "7d5e298c-deb8-4dc8-adf5-09c88af0af9c"
      },
      "execution_count": null,
      "outputs": [
        {
          "output_type": "stream",
          "name": "stdout",
          "text": [
            "enter x1 value=1\n",
            "enter x2 value=2\n",
            "enter y1 value=3\n",
            "enter y2 value=4\n",
            "the distance between is 1.4142135623730951\n"
          ]
        }
      ]
    },
    {
      "cell_type": "markdown",
      "source": [
        "for squareing in pyton\n",
        "example:\n",
        "two square\n",
        "x=2\n",
        "y=x**2"
      ],
      "metadata": {
        "id": "unWAzq2do9Ll"
      }
    },
    {
      "cell_type": "markdown",
      "source": [
        ""
      ],
      "metadata": {
        "id": "vWOayu0iOPwC"
      }
    },
    {
      "cell_type": "markdown",
      "source": [
        ""
      ],
      "metadata": {
        "id": "-EzuTyLEOTuC"
      }
    },
    {
      "cell_type": "code",
      "source": [
        ""
      ],
      "metadata": {
        "id": "9vcLiXWAAsC4"
      },
      "execution_count": null,
      "outputs": []
    }
  ]
}