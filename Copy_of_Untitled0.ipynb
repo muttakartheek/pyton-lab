{
  "nbformat": 4,
  "nbformat_minor": 0,
  "metadata": {
    "colab": {
      "name": "Copy of Untitled0.ipynb",
      "provenance": [],
      "authorship_tag": "ABX9TyMMPtWTaguhJQnVNlLFe9B9",
      "include_colab_link": true
    },
    "kernelspec": {
      "name": "python3",
      "display_name": "Python 3"
    },
    "language_info": {
      "name": "python"
    }
  },
  "cells": [
    {
      "cell_type": "markdown",
      "metadata": {
        "id": "view-in-github",
        "colab_type": "text"
      },
      "source": [
        "<a href=\"https://colab.research.google.com/github/muttakartheek/pyton-lab/blob/main/Copy_of_Untitled0.ipynb\" target=\"_parent\"><img src=\"https://colab.research.google.com/assets/colab-badge.svg\" alt=\"Open In Colab\"/></a>"
      ]
    },
    {
      "cell_type": "code",
      "execution_count": null,
      "metadata": {
        "colab": {
          "base_uri": "https://localhost:8080/"
        },
        "id": "Ogv213OoGUJs",
        "outputId": "f7471df4-220f-4da7-ac26-fcfc7fd11752"
      },
      "outputs": [
        {
          "output_type": "stream",
          "name": "stdout",
          "text": [
            "hello world\n",
            "sri vasavi engineering college\n"
          ]
        }
      ],
      "source": [
        "print(\"hello world\")\n",
        "print(\"sri vasavi engineering college\")"
      ]
    },
    {
      "cell_type": "code",
      "source": [
        ""
      ],
      "metadata": {
        "id": "oh9NRXzNBXUd"
      },
      "execution_count": null,
      "outputs": []
    },
    {
      "cell_type": "code",
      "source": [
        "a=5\n",
        "b=3+5j\n",
        "c=19.25\n",
        "#conversion of int to float\n",
        "x=float0(b)\n",
        "print(\"x value is=\",x)"
      ],
      "metadata": {
        "colab": {
          "base_uri": "https://localhost:8080/",
          "height": 217
        },
        "id": "BTIsinjvkwO3",
        "outputId": "b499ed7b-399f-48ba-d0f6-061e3e7b7eda"
      },
      "execution_count": null,
      "outputs": [
        {
          "output_type": "error",
          "ename": "TypeError",
          "evalue": "ignored",
          "traceback": [
            "\u001b[0;31m---------------------------------------------------------------------------\u001b[0m",
            "\u001b[0;31mTypeError\u001b[0m                                 Traceback (most recent call last)",
            "\u001b[0;32m<ipython-input-7-e5ef432377f6>\u001b[0m in \u001b[0;36m<module>\u001b[0;34m()\u001b[0m\n\u001b[1;32m      3\u001b[0m \u001b[0mc\u001b[0m\u001b[0;34m=\u001b[0m\u001b[0;36m19.25\u001b[0m\u001b[0;34m\u001b[0m\u001b[0;34m\u001b[0m\u001b[0m\n\u001b[1;32m      4\u001b[0m \u001b[0;31m#conversion of int to float\u001b[0m\u001b[0;34m\u001b[0m\u001b[0;34m\u001b[0m\u001b[0;34m\u001b[0m\u001b[0m\n\u001b[0;32m----> 5\u001b[0;31m \u001b[0mx\u001b[0m\u001b[0;34m=\u001b[0m\u001b[0mfloat\u001b[0m\u001b[0;34m(\u001b[0m\u001b[0mb\u001b[0m\u001b[0;34m)\u001b[0m\u001b[0;34m\u001b[0m\u001b[0;34m\u001b[0m\u001b[0m\n\u001b[0m\u001b[1;32m      6\u001b[0m \u001b[0mprint\u001b[0m\u001b[0;34m(\u001b[0m\u001b[0;34m\"x value is=\"\u001b[0m\u001b[0;34m,\u001b[0m\u001b[0mx\u001b[0m\u001b[0;34m)\u001b[0m\u001b[0;34m\u001b[0m\u001b[0;34m\u001b[0m\u001b[0m\n",
            "\u001b[0;31mTypeError\u001b[0m: can't convert complex to float"
          ]
        }
      ]
    },
    {
      "cell_type": "markdown",
      "source": [
        "cannot convert complex to int and complex to float"
      ],
      "metadata": {
        "id": "WmaoIJSDlvte"
      }
    },
    {
      "cell_type": "code",
      "source": [
        "a=55555555599699\n",
        "b=21e6\n",
        "c=2+3j\n",
        "type(c)"
      ],
      "metadata": {
        "colab": {
          "base_uri": "https://localhost:8080/"
        },
        "id": "7yzz7wqvHvFt",
        "outputId": "7f5fa911-4044-4764-fb27-cc3d8c86b5c2"
      },
      "execution_count": null,
      "outputs": [
        {
          "output_type": "execute_result",
          "data": {
            "text/plain": [
              "complex"
            ]
          },
          "metadata": {},
          "execution_count": 15
        }
      ]
    },
    {
      "cell_type": "code",
      "source": [
        "a=\"0.6\"\n",
        "b=\"3+9j\"\n",
        "print(\"the result is\",a+b)\n",
        "type(a+b)"
      ],
      "metadata": {
        "colab": {
          "base_uri": "https://localhost:8080/"
        },
        "id": "sh4JTEvMKZIV",
        "outputId": "75a58a2d-e3bf-4742-e459-acf9b1f39f69"
      },
      "execution_count": null,
      "outputs": [
        {
          "output_type": "stream",
          "name": "stdout",
          "text": [
            "the result is 0.63+9j\n"
          ]
        },
        {
          "output_type": "execute_result",
          "data": {
            "text/plain": [
              "str"
            ]
          },
          "metadata": {},
          "execution_count": 33
        }
      ]
    },
    {
      "cell_type": "code",
      "source": [
        "a=int(input(\"enter the value of a\"))\n",
        "b=int(input(\"enter the value of b\"))\n",
        "print(\"the value of addtion\",a+b)\n",
        "type(a+b)"
      ],
      "metadata": {
        "colab": {
          "base_uri": "https://localhost:8080/"
        },
        "id": "9xbXWIn3NDRu",
        "outputId": "dae7977f-acc9-4ced-d179-d62bcef90ded"
      },
      "execution_count": null,
      "outputs": [
        {
          "output_type": "stream",
          "name": "stdout",
          "text": [
            "enter the value of a2\n",
            "enter the value of b3\n",
            "the value of addtion 5\n"
          ]
        },
        {
          "output_type": "execute_result",
          "data": {
            "text/plain": [
              "int"
            ]
          },
          "metadata": {},
          "execution_count": 39
        }
      ]
    },
    {
      "cell_type": "code",
      "source": [
        "print(\"hello\",\"world\",\"kartheek\",sep=\"\\!\")"
      ],
      "metadata": {
        "colab": {
          "base_uri": "https://localhost:8080/"
        },
        "id": "eWBP-WcWPy_U",
        "outputId": "b620d1b3-8915-43b6-8581-08bba16f4c65"
      },
      "execution_count": null,
      "outputs": [
        {
          "output_type": "stream",
          "name": "stdout",
          "text": [
            "hello\\!world\\!kartheek\n"
          ]
        }
      ]
    },
    {
      "cell_type": "code",
      "source": [
        ""
      ],
      "metadata": {
        "id": "tlyu0SDIoy-e"
      },
      "execution_count": null,
      "outputs": []
    },
    {
      "cell_type": "markdown",
      "source": [
        ""
      ],
      "metadata": {
        "id": "mvtKSPfeOUGl"
      }
    },
    {
      "cell_type": "markdown",
      "source": [
        "there are two types of tyoe conversions\n",
        "1).implict\n",
        "2)explict---------datatype(varaiable)"
      ],
      "metadata": {
        "id": "6AhRY-b_N77w"
      }
    },
    {
      "cell_type": "code",
      "source": [
        "#distance between the two points\n",
        "\n",
        "x1=int(input(\"enter x1 value=\"))\n",
        "x2=int(input(\"enter x2 value=\"))\n",
        "y1=int(input(\"enter y1 value=\"))\n",
        "y2=int(input(\"enter y2 value=\"))\n",
        "x=((x2-x1)**2)\n",
        "y=((y2-y1)**2)\n",
        "distance=((x+y)**0.5)\n",
        "print(\"the distance between is\",distance)\n"
      ],
      "metadata": {
        "id": "iukykqA2MbwC",
        "colab": {
          "base_uri": "https://localhost:8080/"
        },
        "outputId": "7d5e298c-deb8-4dc8-adf5-09c88af0af9c"
      },
      "execution_count": null,
      "outputs": [
        {
          "output_type": "stream",
          "name": "stdout",
          "text": [
            "enter x1 value=1\n",
            "enter x2 value=2\n",
            "enter y1 value=3\n",
            "enter y2 value=4\n",
            "the distance between is 1.4142135623730951\n"
          ]
        }
      ]
    },
    {
      "cell_type": "markdown",
      "source": [
        "for squareing in pyton\n",
        "example:\n",
        "two square\n",
        "x=2\n",
        "y=x**2"
      ],
      "metadata": {
        "id": "unWAzq2do9Ll"
      }
    },
    {
      "cell_type": "code",
      "source": [
        "'print the number form 1 upto n using for loop'\n",
        "n=int(input(\"enter n value\"))\n",
        "for i in range(1,n+1,1):\n",
        "  print(i,end=\" \")"
      ],
      "metadata": {
        "colab": {
          "base_uri": "https://localhost:8080/"
        },
        "id": "ohP_hT777Gqg",
        "outputId": "a97ab3e6-c35b-4347-e5af-fb73ccf9d795"
      },
      "execution_count": null,
      "outputs": [
        {
          "output_type": "stream",
          "name": "stdout",
          "text": [
            "enter n value10\n",
            "1 2 3 4 5 6 7 8 9 10 "
          ]
        }
      ]
    },
    {
      "cell_type": "code",
      "source": [
        "n=int(input(\"enter n value \"))\n",
        "print (\"the even number upto:\",n)\n",
        "for i in range(2,n,2):\n",
        "  print(i,end=\" \")"
      ],
      "metadata": {
        "colab": {
          "base_uri": "https://localhost:8080/"
        },
        "id": "FP-O0CD_8PMP",
        "outputId": "d6d63039-f987-49e2-a84e-25192e39842e"
      },
      "execution_count": null,
      "outputs": [
        {
          "output_type": "stream",
          "name": "stdout",
          "text": [
            "enter n value 60\n",
            "the even number upto: 60\n",
            "2 4 6 8 10 12 14 16 18 20 22 24 26 28 30 32 34 36 38 40 42 44 46 48 50 52 54 56 58 "
          ]
        }
      ]
    },
    {
      "cell_type": "code",
      "source": [
        "'sum palindrome'\n",
        "n=int(input(\"enter n value\"))\n",
        "for i in range (5):\n",
        "  n1=n\n",
        "  r=0\n",
        "  rev=0\n",
        "  while n!=0:\n",
        "    r=n%10\n",
        "    rev=((rev*10)+r)\n",
        "    n=n//10\n",
        "  if rev==n1:\n",
        "    print(\"the given number is palindrom\",rev)\n",
        "    break\n",
        "  else:\n",
        "    n=rev+n1\n",
        "\n"
      ],
      "metadata": {
        "colab": {
          "base_uri": "https://localhost:8080/"
        },
        "id": "2w13hQUV-6Mn",
        "outputId": "4bcee339-b022-4742-b4ff-8ada00a8bbf9"
      },
      "execution_count": null,
      "outputs": [
        {
          "output_type": "stream",
          "name": "stdout",
          "text": [
            "enter n value456\n",
            "the given number is palindrom 1221\n"
          ]
        }
      ]
    },
    {
      "cell_type": "code",
      "source": [
        "'odd numnber'\n",
        "n=int(input(\"enter n value=\"))\n",
        "for i in range(1,n,2):\n",
        "  print(i,end=\" \")"
      ],
      "metadata": {
        "colab": {
          "base_uri": "https://localhost:8080/"
        },
        "id": "I1bFN6LACyWA",
        "outputId": "f1567737-b4c7-48ec-e65d-54067b594977"
      },
      "execution_count": null,
      "outputs": [
        {
          "output_type": "stream",
          "name": "stdout",
          "text": [
            "enter n value=9\n",
            "1 3 5 7 "
          ]
        }
      ]
    },
    {
      "cell_type": "code",
      "source": [
        "'given number is plaindromeor not'\n",
        "n=int(input(\"enter n value\"))\n",
        "n1=n\n",
        "r=0\n",
        "rev=0\n",
        "while n!=0:\n",
        "  r=n%10\n",
        "  rev=(rev*10)+r\n",
        "  n=n//10\n",
        "if rev==n1:\n",
        "  print(\"the given number is palindrome\",n1)\n",
        "else:\n",
        "  print(\"the number is not palindrome\")"
      ],
      "metadata": {
        "colab": {
          "base_uri": "https://localhost:8080/"
        },
        "id": "xz5JNuWXDNX4",
        "outputId": "9f986990-93f4-4b14-b73f-7339363faebf"
      },
      "execution_count": null,
      "outputs": [
        {
          "output_type": "stream",
          "name": "stdout",
          "text": [
            "enter n value85\n",
            "the number is not palindrome\n"
          ]
        }
      ]
    },
    {
      "cell_type": "code",
      "source": [
        "'fibonacci'\n",
        "n=int(input(\"enter n value\"))\n",
        "a=0\n",
        "b=1\n",
        "print(\"the fibanocci sequence are:\",a,\" \",b)\n",
        "for i in range(3,n+1):\n",
        "  c=a+b\n",
        "  print(c,end=\" \")\n",
        "  a=b\n",
        "  b=c"
      ],
      "metadata": {
        "colab": {
          "base_uri": "https://localhost:8080/"
        },
        "id": "kqPSye6OEg7v",
        "outputId": "7b262681-21f4-43b0-b886-6dfdd6beb71d"
      },
      "execution_count": null,
      "outputs": [
        {
          "output_type": "stream",
          "name": "stdout",
          "text": [
            "enter n value9\n",
            "the fibanocci sequence are: 0   1\n",
            "1 2 3 5 8 13 21 "
          ]
        }
      ]
    },
    {
      "cell_type": "code",
      "source": [
        "n=int(input(\"enter n value\"))\n",
        "a=0\n",
        "b=1\n",
        "print(\"the fibanocci sequence are:\",a,\" \",b)\n",
        "for i in range(3,n+1):\n",
        "  c=a+b\n",
        "  a=b\n",
        "  b=c\n",
        "print(c,end=\" \")\n"
      ],
      "metadata": {
        "colab": {
          "base_uri": "https://localhost:8080/"
        },
        "id": "KRDbJ-GhGFQH",
        "outputId": "580a436d-d3e2-40ad-ebe4-ab369ef7df25"
      },
      "execution_count": null,
      "outputs": [
        {
          "output_type": "stream",
          "name": "stdout",
          "text": [
            "enter n value9\n",
            "the fibanocci sequence are: 0   1\n",
            "21 "
          ]
        }
      ]
    },
    {
      "cell_type": "code",
      "source": [
        "'even fibonacci'\n",
        "n=int(input(\"enter n value\"))\n",
        "sum=0\n",
        "a=0\n",
        "b=1\n",
        "for i in range(2,n+1):\n",
        "  c=a+b\n",
        "  a=b\n",
        "  b=c\n",
        "  if i%2==0:\n",
        "    sum=sum+c\n",
        "print(\"sum of even index value is=\",sum)"
      ],
      "metadata": {
        "colab": {
          "base_uri": "https://localhost:8080/"
        },
        "id": "_8N3P4SGGkeg",
        "outputId": "c5c96efa-36e3-40e6-8990-4c3e391bd2ec"
      },
      "execution_count": null,
      "outputs": [
        {
          "output_type": "stream",
          "name": "stdout",
          "text": [
            "enter n value6\n",
            "sum of even index value is= 12\n"
          ]
        }
      ]
    },
    {
      "cell_type": "code",
      "source": [
        "'to construct the following pattern'\n",
        "n=int(input(\"enter n row=\"))\n",
        "for i in range(1,n+1):\n",
        "  for j in range(1,i+1):\n",
        "    print(\"*\",end=\" \")\n",
        "  print()\n",
        "for i in range(1,n):\n",
        "  for ij in range(1,n-i+1):\n",
        "    print(\"*\",end=\" \")\n",
        "  print()"
      ],
      "metadata": {
        "colab": {
          "base_uri": "https://localhost:8080/"
        },
        "id": "k8OqBNQ4H5Do",
        "outputId": "e535fb97-d16f-470d-8565-1cbc3fa1770d"
      },
      "execution_count": null,
      "outputs": [
        {
          "output_type": "stream",
          "name": "stdout",
          "text": [
            "enter n value=5\n",
            "* \n",
            "* * \n",
            "* * * \n",
            "* * * * \n",
            "* * * * * \n",
            "* * * * \n",
            "* * * \n",
            "* * \n",
            "* \n"
          ]
        }
      ]
    },
    {
      "cell_type": "code",
      "source": [
        "'enter the foloowing pattern of number'\n",
        "n=int(input(\"enter no ofrows=\"))\n",
        "k=1\n",
        "for i in range(1,n+1):\n",
        "  for j in range(1,i+1):\n",
        "    print(k,end=\" \")\n",
        "    k=k+1\n",
        "  print()"
      ],
      "metadata": {
        "colab": {
          "base_uri": "https://localhost:8080/"
        },
        "id": "Jra3YobXJNkp",
        "outputId": "e9f88e6d-bd3b-457e-e262-6906a473f579"
      },
      "execution_count": null,
      "outputs": [
        {
          "output_type": "stream",
          "name": "stdout",
          "text": [
            "enter no ofrows=4\n",
            "1 \n",
            "2 3 \n",
            "4 5 6 \n",
            "7 8 9 10 \n"
          ]
        }
      ]
    },
    {
      "cell_type": "code",
      "source": [
        "str=\"sri vasavi engg \"\n",
        "for ch in str:\n",
        "  print(ch,end=\" \")"
      ],
      "metadata": {
        "colab": {
          "base_uri": "https://localhost:8080/"
        },
        "id": "8Aou1RSQLwXf",
        "outputId": "a6291221-6b1c-466b-93c4-21826e255fdb"
      },
      "execution_count": null,
      "outputs": [
        {
          "output_type": "stream",
          "name": "stdout",
          "text": [
            "s r i   v a s a v i   e n g g   6 "
          ]
        }
      ]
    },
    {
      "cell_type": "code",
      "source": [
        "str=\"sri vasavi engg college\"\n",
        "print(\"**\",end=\" \")\n",
        "for i in str:\n",
        "  if i=='o':\n",
        "    pass\n",
        "  else:\n",
        "    print(i,end=\" \")\n",
        "    \n",
        "print(\"**\")\n"
      ],
      "metadata": {
        "colab": {
          "base_uri": "https://localhost:8080/"
        },
        "id": "y35hYa-_NuU_",
        "outputId": "898086f5-ed03-4201-cac3-faf6ae062087"
      },
      "execution_count": null,
      "outputs": [
        {
          "output_type": "stream",
          "name": "stdout",
          "text": [
            "** s r i   v a s a v i   e n g g   c l l e g e **\n"
          ]
        }
      ]
    },
    {
      "cell_type": "code",
      "source": [
        "while false:\n",
        "  print(\"hello world\")\n",
        "  "
      ],
      "metadata": {
        "colab": {
          "base_uri": "https://localhost:8080/",
          "height": 200
        },
        "id": "h-UTt5ucPoHW",
        "outputId": "a3908782-ed44-43a0-93f3-a5fbb598d62b"
      },
      "execution_count": null,
      "outputs": [
        {
          "output_type": "error",
          "ename": "NameError",
          "evalue": "ignored",
          "traceback": [
            "\u001b[0;31m---------------------------------------------------------------------------\u001b[0m",
            "\u001b[0;31mNameError\u001b[0m                                 Traceback (most recent call last)",
            "\u001b[0;32m<ipython-input-107-c7eb403071c3>\u001b[0m in \u001b[0;36m<module>\u001b[0;34m()\u001b[0m\n\u001b[0;32m----> 1\u001b[0;31m \u001b[0;32mwhile\u001b[0m \u001b[0mfalse\u001b[0m\u001b[0;34m:\u001b[0m\u001b[0;34m\u001b[0m\u001b[0;34m\u001b[0m\u001b[0m\n\u001b[0m\u001b[1;32m      2\u001b[0m   \u001b[0mprint\u001b[0m\u001b[0;34m(\u001b[0m\u001b[0;34m\"hello world\"\u001b[0m\u001b[0;34m)\u001b[0m\u001b[0;34m\u001b[0m\u001b[0;34m\u001b[0m\u001b[0m\n\u001b[1;32m      3\u001b[0m \u001b[0;34m\u001b[0m\u001b[0m\n",
            "\u001b[0;31mNameError\u001b[0m: name 'false' is not defined"
          ]
        }
      ]
    },
    {
      "cell_type": "code",
      "source": [
        "'functions'\n",
        "def show(str):\n",
        "  print(str,end=\" \")\n",
        "  str=\"morning\"\n",
        "  print(str)\n",
        "str=\"hello\"\n",
        "show(str)\n",
        "print(str)"
      ],
      "metadata": {
        "id": "cGryHq-zPXsm",
        "colab": {
          "base_uri": "https://localhost:8080/"
        },
        "outputId": "d582343b-0c38-4410-d57f-a515aeb668d1"
      },
      "execution_count": null,
      "outputs": [
        {
          "output_type": "stream",
          "name": "stdout",
          "text": [
            "hello morning\n",
            "hello\n"
          ]
        }
      ]
    },
    {
      "cell_type": "code",
      "source": [
        "def show():\n",
        "  global str\n",
        "  print(str)\n",
        "  str=\"morning\"\n",
        "  print(str)\n",
        "str=\"hello\"\n",
        "show()\n",
        "print(str)"
      ],
      "metadata": {
        "colab": {
          "base_uri": "https://localhost:8080/"
        },
        "id": "VaTenVLPApuB",
        "outputId": "03a45221-433d-41e5-ec87-cb3217142447"
      },
      "execution_count": null,
      "outputs": [
        {
          "output_type": "stream",
          "name": "stdout",
          "text": [
            "hello\n",
            "morning\n",
            "morning\n"
          ]
        }
      ]
    },
    {
      "cell_type": "code",
      "source": [
        "#program to print add of two numbers\n",
        "def add(a,b):\n",
        "  return a+b\n",
        "a=int(input(\"enter a value=\"))\n",
        "b=int(input(\"enter b value=\"))\n",
        "print(\"the addition is\",add(a,b))\n"
      ],
      "metadata": {
        "colab": {
          "base_uri": "https://localhost:8080/"
        },
        "id": "175Opt-L-4aJ",
        "outputId": "38f069cc-c6c6-4666-b119-ba32554d634e"
      },
      "execution_count": null,
      "outputs": [
        {
          "output_type": "stream",
          "name": "stdout",
          "text": [
            "enter a value=4\n",
            "enter b value=6\n",
            "the addition is 10\n"
          ]
        }
      ]
    },
    {
      "cell_type": "code",
      "source": [
        "#perfect number\n",
        "n=int(input(\"enter n value \"))\n",
        "sum=0\n",
        "for i in range(1,n):\n",
        "  if n%i==0:\n",
        "    sum=sum+i\n",
        "if(sum==n):\n",
        "  print(n,\"is perfect number\")\n",
        "else:\n",
        "  print(n,\"is not perfect number\")\n",
        "      "
      ],
      "metadata": {
        "colab": {
          "base_uri": "https://localhost:8080/"
        },
        "id": "cQWkH7kaGOoZ",
        "outputId": "432128e4-066f-4be8-a058-84e097841c7d"
      },
      "execution_count": null,
      "outputs": [
        {
          "output_type": "stream",
          "name": "stdout",
          "text": [
            "enter n value 6\n",
            "6 is perfect number\n"
          ]
        }
      ]
    },
    {
      "cell_type": "code",
      "source": [
        "def mean(l1):\n",
        "  a=sum(l1)/len(l1)\n",
        "  return a\n",
        "l1=[2,4,6]\n",
        "l2=[22,23,24]\n",
        "print(\"the mean of\",l1,\"is\", mean(l1))\n",
        "print(\"the mean of\",l2,\"is\",mean(l2))\n"
      ],
      "metadata": {
        "colab": {
          "base_uri": "https://localhost:8080/"
        },
        "id": "nO4UpZLJJDsY",
        "outputId": "5809c01d-92b6-4beb-c5d0-f1114ccff94c"
      },
      "execution_count": null,
      "outputs": [
        {
          "output_type": "stream",
          "name": "stdout",
          "text": [
            "the mean of [2, 4, 6] is 4.0\n",
            "the mean of [22, 23, 24] is 23.0\n"
          ]
        }
      ]
    },
    {
      "cell_type": "code",
      "source": [
        ""
      ],
      "metadata": {
        "id": "76L__cssP6NQ"
      },
      "execution_count": null,
      "outputs": []
    },
    {
      "cell_type": "code",
      "source": [
        "list1=[30,40,60,70,80,50,90]\n",
        "list1.sort()\n",
        "print(list1)"
      ],
      "metadata": {
        "colab": {
          "base_uri": "https://localhost:8080/"
        },
        "id": "JfhxeFLaMhIB",
        "outputId": "5b2b6921-3dd7-4b80-801d-00ee2f2798b5"
      },
      "execution_count": null,
      "outputs": [
        {
          "output_type": "stream",
          "name": "stdout",
          "text": [
            "[30, 40, 50, 60, 70, 80, 90]\n"
          ]
        }
      ]
    },
    {
      "cell_type": "code",
      "source": [
        "def median(l):\n",
        "  n=len(l)\n",
        "  sum=0\n",
        "  l.sort()\n",
        "\n",
        "  if(n%2==0):\n",
        "    sum=l[(n//2)]+l[(n//2)-1]\n",
        "    m=float(sum/2)\n",
        "  else:\n",
        "    m=l[(n)//2]\n",
        "  print(\"median=\",m)\n",
        "l1=[6,4,5,1,3,7]\n",
        "median(l1)"
      ],
      "metadata": {
        "colab": {
          "base_uri": "https://localhost:8080/"
        },
        "id": "o_3h5uzTJCZP",
        "outputId": "dca1e318-be0d-4a5f-ba8e-e8c45e7e87f2"
      },
      "execution_count": null,
      "outputs": [
        {
          "output_type": "stream",
          "name": "stdout",
          "text": [
            "median= 4.5\n"
          ]
        }
      ]
    },
    {
      "cell_type": "code",
      "source": [
        "import statistics as st\n",
        "item=[6,1,8,2,3]\n",
        "st.median(item)"
      ],
      "metadata": {
        "colab": {
          "base_uri": "https://localhost:8080/"
        },
        "id": "FwYT0hP4ThCm",
        "outputId": "4c2a57bb-8203-4357-b767-40a8155139cb"
      },
      "execution_count": null,
      "outputs": [
        {
          "output_type": "execute_result",
          "data": {
            "text/plain": [
              "3"
            ]
          },
          "metadata": {},
          "execution_count": 3
        }
      ]
    },
    {
      "cell_type": "code",
      "source": [
        "import numpy as np\n",
        "#create a list\n",
        "ls=[3,1,4,9,2,5,6,3]\n",
        "print(np.median(ls))"
      ],
      "metadata": {
        "colab": {
          "base_uri": "https://localhost:8080/"
        },
        "id": "m1N_R7c2T8_m",
        "outputId": "7b986ce7-b016-4cc4-d3c5-f840be24b634"
      },
      "execution_count": null,
      "outputs": [
        {
          "output_type": "stream",
          "name": "stdout",
          "text": [
            "3.5\n"
          ]
        }
      ]
    },
    {
      "cell_type": "code",
      "source": [
        "d={1:100,2:200}\n",
        "print(d.keys())\n",
        "print(d.values())\n",
        "print(d[1])\n",
        "print(d[2])\n",
        "d[1]=1000\n",
        "print(d[1])\n",
        "print(d)"
      ],
      "metadata": {
        "colab": {
          "base_uri": "https://localhost:8080/"
        },
        "id": "jQV4E1I3WTcG",
        "outputId": "cffdb4ff-eebd-4320-d747-2d8da3deef09"
      },
      "execution_count": null,
      "outputs": [
        {
          "output_type": "stream",
          "name": "stdout",
          "text": [
            "dict_keys([1, 2])\n",
            "dict_values([100, 200])\n",
            "100\n",
            "200\n",
            "1000\n",
            "{1: 1000, 2: 200}\n"
          ]
        }
      ]
    },
    {
      "cell_type": "code",
      "source": [
        "def show():\n",
        "  print (str)\n",
        "show(str)"
      ],
      "metadata": {
        "id": "ph9qSvn4BZJd",
        "outputId": "e85eac6e-b690-42b5-fc11-e8ddae9ef050",
        "colab": {
          "base_uri": "https://localhost:8080/",
          "height": 200
        }
      },
      "execution_count": 1,
      "outputs": [
        {
          "output_type": "error",
          "ename": "TypeError",
          "evalue": "ignored",
          "traceback": [
            "\u001b[0;31m---------------------------------------------------------------------------\u001b[0m",
            "\u001b[0;31mTypeError\u001b[0m                                 Traceback (most recent call last)",
            "\u001b[0;32m<ipython-input-1-26815b592985>\u001b[0m in \u001b[0;36m<module>\u001b[0;34m()\u001b[0m\n\u001b[1;32m      1\u001b[0m \u001b[0;32mdef\u001b[0m \u001b[0mshow\u001b[0m\u001b[0;34m(\u001b[0m\u001b[0;34m)\u001b[0m\u001b[0;34m:\u001b[0m\u001b[0;34m\u001b[0m\u001b[0;34m\u001b[0m\u001b[0m\n\u001b[1;32m      2\u001b[0m   \u001b[0mprint\u001b[0m \u001b[0;34m(\u001b[0m\u001b[0mstr\u001b[0m\u001b[0;34m)\u001b[0m\u001b[0;34m\u001b[0m\u001b[0;34m\u001b[0m\u001b[0m\n\u001b[0;32m----> 3\u001b[0;31m \u001b[0mshow\u001b[0m\u001b[0;34m(\u001b[0m\u001b[0mstr\u001b[0m\u001b[0;34m)\u001b[0m\u001b[0;34m\u001b[0m\u001b[0;34m\u001b[0m\u001b[0m\n\u001b[0m",
            "\u001b[0;31mTypeError\u001b[0m: show() takes 0 positional arguments but 1 was given"
          ]
        }
      ]
    },
    {
      "cell_type": "code",
      "source": [
        "def show():\n",
        "  print(str)\n",
        "show()"
      ],
      "metadata": {
        "id": "B-7Yv9UwCJpd",
        "outputId": "91862595-b541-4bd7-a59f-a60122e1cc70",
        "colab": {
          "base_uri": "https://localhost:8080/"
        }
      },
      "execution_count": 3,
      "outputs": [
        {
          "output_type": "stream",
          "name": "stdout",
          "text": [
            "<class 'str'>\n"
          ]
        }
      ]
    },
    {
      "cell_type": "code",
      "source": [
        "'''keywoard argumentes'''\n",
        "def show(name,age):\n",
        "  print(\"name=\",name)\n",
        "  print(\"age=\",age)\n",
        "show(age=34,name=\"kartheek\")"
      ],
      "metadata": {
        "id": "ZOlbf8nkCuxc",
        "outputId": "e30b461e-f29a-4e7e-b427-477d3cc9d0ea",
        "colab": {
          "base_uri": "https://localhost:8080/"
        }
      },
      "execution_count": 11,
      "outputs": [
        {
          "output_type": "stream",
          "name": "stdout",
          "text": [
            "name= kartheek\n",
            "age= 34\n"
          ]
        }
      ]
    },
    {
      "cell_type": "code",
      "source": [
        "def show(name,age):\n",
        "  print(\"name=\",name)\n",
        "  print(\"age=\",age)\n",
        "a=34\n",
        "n=\"ravi\"\n",
        "show(age=a,name=n)"
      ],
      "metadata": {
        "id": "o0ChF1TPENTn",
        "outputId": "3489ba36-0c70-4c43-bba2-be57fc2e7223",
        "colab": {
          "base_uri": "https://localhost:8080/"
        }
      },
      "execution_count": 15,
      "outputs": [
        {
          "output_type": "stream",
          "name": "stdout",
          "text": [
            "name= ravi\n",
            "age= 34\n"
          ]
        }
      ]
    },
    {
      "cell_type": "code",
      "source": [
        "def show(course=\" \",*name):\n",
        "  print(\"course=\",course,\"is choosen by\")\n",
        "  for i in name:\n",
        "    print(i,end=\" \")\n",
        "show(\"b pharcy\",\"sunitha\",\"ravi\",\"shyam\")"
      ],
      "metadata": {
        "id": "TLLOcjrEE39m",
        "outputId": "e0b6bc59-0ade-4d40-d681-fe9c2e4a5717",
        "colab": {
          "base_uri": "https://localhost:8080/"
        }
      },
      "execution_count": 28,
      "outputs": [
        {
          "output_type": "stream",
          "name": "stdout",
          "text": [
            "course= b pharcy is choosen by\n",
            "sunitha ravi shyam "
          ]
        }
      ]
    },
    {
      "cell_type": "code",
      "source": [
        "def fact_rec(n):\n",
        "  if n==-9:\n",
        "    return 1\n",
        "  else:\n",
        "    return n*fact_rec(n-1)\n",
        "n=int(input(\"enter n=\"))\n",
        "print(\"the factorial of\",n,\"is\",fact_rec(n))"
      ],
      "metadata": {
        "id": "AkfYfTCsHfjH",
        "outputId": "62e65ea7-dd84-4eaf-86ee-dfa6e30443da",
        "colab": {
          "base_uri": "https://localhost:8080/"
        }
      },
      "execution_count": 46,
      "outputs": [
        {
          "output_type": "stream",
          "name": "stdout",
          "text": [
            "enter n=-3\n",
            "the factorial of -3 is 20160\n"
          ]
        }
      ]
    },
    {
      "cell_type": "code",
      "source": [
        "def exp_rec(x,y):\n",
        "  if y==1:\n",
        "    return x\n",
        "  else:\n",
        "    return x*exp_rec(x,y-1)\n",
        "x=int(input(\"enter x value=\"))\n",
        "y=int(input(\"enter y value=\"))\n",
        "res=exp_rec(x,y)\n",
        "print(x,\"power\",y,\"is\",res)"
      ],
      "metadata": {
        "id": "XJZPPHxSKaJf",
        "outputId": "df071bb3-a8c6-4733-8a23-932d27eb2cfc",
        "colab": {
          "base_uri": "https://localhost:8080/"
        }
      },
      "execution_count": 47,
      "outputs": [
        {
          "output_type": "stream",
          "name": "stdout",
          "text": [
            "enter x value=2\n",
            "enter y value=6\n",
            "2 power 6 is 64\n"
          ]
        }
      ]
    },
    {
      "cell_type": "code",
      "source": [
        ""
      ],
      "metadata": {
        "id": "RsOsgrbePVyY"
      },
      "execution_count": null,
      "outputs": []
    },
    {
      "cell_type": "code",
      "source": [
        "'''program to find gcd'''\n",
        "def gcd(a,b):\n",
        "  if b==0:\n",
        "    return a\n",
        "  else:\n",
        "    return gcd(b,a%b)\n",
        "a=float(input(\"enter a=\"))\n",
        "b=float(input(\"enter b=\"))\n",
        "if a>b:\n",
        "  res=gcd(b,a)\n",
        "else:\n",
        "  res=gcd(a,b)\n",
        "print(\"the gcd of\",a,\"and\",b,\"is\",res)"
      ],
      "metadata": {
        "id": "eCa9VDO2PV4U",
        "outputId": "5870f3f8-8dca-47ee-916c-6d499274f4eb",
        "colab": {
          "base_uri": "https://localhost:8080/"
        }
      },
      "execution_count": 57,
      "outputs": [
        {
          "output_type": "stream",
          "name": "stdout",
          "text": [
            "enter a=3\n",
            "enter b=2\n",
            "the gcd of 3.0 and 2.0 is 1.0\n"
          ]
        }
      ]
    },
    {
      "cell_type": "code",
      "source": [
        "def lcm(x,y):\n",
        "  if x>y:\n",
        "    gt=x\n",
        "  else:\n",
        "    gt=y\n",
        "  while(True):\n",
        "    if gt%x==0 and gt%y==0:\n",
        "      return gt\n",
        "    gt=gt+1\n",
        "x=int(input(\"enter x value=\"))\n",
        "y=int(input(\"enter y value=\")) \n",
        "print(\"the lcm is \",lcm(x,y))"
      ],
      "metadata": {
        "id": "TusxcP5kGhxm",
        "outputId": "c81f200b-52ad-4d33-9708-9a10a83ce3c3",
        "colab": {
          "base_uri": "https://localhost:8080/"
        }
      },
      "execution_count": 61,
      "outputs": [
        {
          "output_type": "stream",
          "name": "stdout",
          "text": [
            "enter x value=2\n",
            "enter y value=3\n",
            "the lcm is  6\n"
          ]
        }
      ]
    },
    {
      "cell_type": "code",
      "source": [
        "def gcd(a,b):\n",
        "  if b==0:\n",
        "    return a\n",
        "  else:\n",
        "    return gcd(b,a%b)\n",
        "def lcm(x,y):\n",
        "  return int((x*y)/gcd(x,y))\n",
        "x=int(input(\"enter a value=\"))\n",
        "y=int(input(\"enter b value=\"))\n",
        "print(\"the lcm of\",x,\",\",y,\"is\",lcm(x,y))\n",
        "print(\"the gcd of\",x,\",\",y,\"is\",gcd(x,y))"
      ],
      "metadata": {
        "id": "lQfH0yUyUYh6",
        "outputId": "06708c0c-35bf-4395-d897-267f43b93776",
        "colab": {
          "base_uri": "https://localhost:8080/"
        }
      },
      "execution_count": 63,
      "outputs": [
        {
          "output_type": "stream",
          "name": "stdout",
          "text": [
            "enter a value=-3\n",
            "enter b value=-2\n",
            "the lcm of -3 , -2 is -6\n",
            "the gcd of -3 , -2 is -1\n"
          ]
        }
      ]
    },
    {
      "cell_type": "code",
      "source": [
        "def fib(n):\n",
        "  if n<2:\n",
        "    return n\n",
        "  else:\n",
        "    return fib(n-1)+fib(n-2)\n",
        "n=int(input(\"enter n=\"))\n",
        "print(\"the\",n,\"th fibanocci number is\",fib(n))"
      ],
      "metadata": {
        "id": "Evms0XF_YxEW",
        "outputId": "3580e93a-fc8e-41a8-c4a3-ebba5fbd7193",
        "colab": {
          "base_uri": "https://localhost:8080/"
        }
      },
      "execution_count": 76,
      "outputs": [
        {
          "output_type": "stream",
          "name": "stdout",
          "text": [
            "enter n=3\n",
            "the 3 th fibanocci number is 2\n"
          ]
        }
      ]
    },
    {
      "cell_type": "code",
      "source": [
        "def equal(s1,s2):\n",
        "  st1=sorted(s1)\n",
        "  st2=sorted(s2)\n",
        "  cnt=0\n",
        "  if len(s1)==len(st2):\n",
        "    for i in range (len(st1)):\n",
        "      if st1[i]!=st2[i]:\n",
        "        cnt=cnt+1\n",
        "  else:\n",
        "    print(\"length is not equal\")\n",
        "    return\n",
        "  if cnt<2:\n",
        "    print(\"strings are nearly equal\")\n",
        "  else:\n",
        "    print(\"string are not nearly equal\")\n",
        "s1=input(\"enter s1 value=\")\n",
        "s2=input(\"enter s2 value=\")\n",
        "equal(s1,s2)"
      ],
      "metadata": {
        "id": "pJFu3LntakBm",
        "outputId": "5fd8ba25-ac01-44b7-9c1d-9935bbd53924",
        "colab": {
          "base_uri": "https://localhost:8080/"
        }
      },
      "execution_count": 79,
      "outputs": [
        {
          "output_type": "stream",
          "name": "stdout",
          "text": [
            "enter s1 value=loop\n",
            "enter s2 value=pool\n",
            "strings are nearly equal\n"
          ]
        }
      ]
    },
    {
      "cell_type": "code",
      "source": [
        "def convert(hrs,min):\n",
        "  min=(hrs*60)+min\n",
        "  return min\n",
        "hrs=int(input(\"enter hours=\"))\n",
        "min=int(input(\"enter minutes=\"))\n",
        "min=convert(hrs,min)\n",
        "print(\"the total minutes is\",min)"
      ],
      "metadata": {
        "id": "z6NhPavbcrUw",
        "outputId": "f9144379-4097-4b39-a76f-93d8c671de4f",
        "colab": {
          "base_uri": "https://localhost:8080/"
        }
      },
      "execution_count": 80,
      "outputs": [
        {
          "output_type": "stream",
          "name": "stdout",
          "text": [
            "enter hours=2\n",
            "enter minutes=60\n",
            "the total minutes is 180\n"
          ]
        }
      ]
    },
    {
      "cell_type": "markdown",
      "source": [
        ""
      ],
      "metadata": {
        "id": "vWOayu0iOPwC"
      }
    },
    {
      "cell_type": "code",
      "source": [
        "def volume(l=2,w=3,h=4):\n",
        "  print(\"length\",l,\"\\t width\",w,\"\\t heigth\",h)\n",
        "  return(l*w*h)\n",
        "print(\"the volume of\",volume())\n",
        "print(\"the volume of\",volume(5))\n",
        "print(\"the volume of\",volume(1,4))"
      ],
      "metadata": {
        "id": "v8PjLfqAUXkC",
        "outputId": "f3e71a8b-2af6-4c27-b912-106e7e216a06",
        "colab": {
          "base_uri": "https://localhost:8080/"
        }
      },
      "execution_count": 83,
      "outputs": [
        {
          "output_type": "stream",
          "name": "stdout",
          "text": [
            "length 2 \t width 3 \t heigth 4\n",
            "the volume of 24\n",
            "length 5 \t width 3 \t heigth 4\n",
            "the volume of 60\n",
            "length 1 \t width 4 \t heigth 4\n",
            "the volume of 16\n"
          ]
        }
      ]
    },
    {
      "cell_type": "code",
      "source": [
        "def maximum(l):\n",
        "  max=l[0]\n",
        "  for i in range(len(l)):\n",
        "    if max<l[i]:\n",
        "      max=l[i]\n",
        "  return max\n",
        "l=[5,6,7,9]\n",
        "print(\"the maximum elemnts in\",l,\"is\",maximum(l))"
      ],
      "metadata": {
        "id": "_N-vPgF3f4d_",
        "outputId": "5b1e3303-8c4c-4722-9903-0b25d40f0380",
        "colab": {
          "base_uri": "https://localhost:8080/"
        }
      },
      "execution_count": 5,
      "outputs": [
        {
          "output_type": "stream",
          "name": "stdout",
          "text": [
            "the maximum elemnts in [5, 6, 7, 9] is 9\n"
          ]
        }
      ]
    },
    {
      "cell_type": "markdown",
      "source": [
        ""
      ],
      "metadata": {
        "id": "-EzuTyLEOTuC"
      }
    }
  ]
}