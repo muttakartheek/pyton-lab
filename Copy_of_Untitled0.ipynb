{
  "nbformat": 4,
  "nbformat_minor": 0,
  "metadata": {
    "colab": {
      "name": "Copy of Untitled0.ipynb",
      "provenance": [],
      "authorship_tag": "ABX9TyNtctj+L8ntbcQ3CnQcVm6I",
      "include_colab_link": true
    },
    "kernelspec": {
      "name": "python3",
      "display_name": "Python 3"
    },
    "language_info": {
      "name": "python"
    }
  },
  "cells": [
    {
      "cell_type": "markdown",
      "metadata": {
        "id": "view-in-github",
        "colab_type": "text"
      },
      "source": [
        "<a href=\"https://colab.research.google.com/github/muttakartheek/pyton-lab/blob/main/Copy_of_Untitled0.ipynb\" target=\"_parent\"><img src=\"https://colab.research.google.com/assets/colab-badge.svg\" alt=\"Open In Colab\"/></a>"
      ]
    },
    {
      "cell_type": "code",
      "execution_count": null,
      "metadata": {
        "colab": {
          "base_uri": "https://localhost:8080/"
        },
        "id": "Ogv213OoGUJs",
        "outputId": "f7471df4-220f-4da7-ac26-fcfc7fd11752"
      },
      "outputs": [
        {
          "output_type": "stream",
          "name": "stdout",
          "text": [
            "hello world\n",
            "sri vasavi engineering college\n"
          ]
        }
      ],
      "source": [
        "print(\"hello world\")\n",
        "print(\"sri vasavi engineering college\")"
      ]
    },
    {
      "cell_type": "code",
      "source": [
        "a=5\n",
        "b=3+5j\n",
        "c=19.25\n",
        "#conversion of int to float\n",
        "x=float0(b)\n",
        "print(\"x value is=\",x)"
      ],
      "metadata": {
        "colab": {
          "base_uri": "https://localhost:8080/",
          "height": 217
        },
        "id": "BTIsinjvkwO3",
        "outputId": "b499ed7b-399f-48ba-d0f6-061e3e7b7eda"
      },
      "execution_count": null,
      "outputs": [
        {
          "output_type": "error",
          "ename": "TypeError",
          "evalue": "ignored",
          "traceback": [
            "\u001b[0;31m---------------------------------------------------------------------------\u001b[0m",
            "\u001b[0;31mTypeError\u001b[0m                                 Traceback (most recent call last)",
            "\u001b[0;32m<ipython-input-7-e5ef432377f6>\u001b[0m in \u001b[0;36m<module>\u001b[0;34m()\u001b[0m\n\u001b[1;32m      3\u001b[0m \u001b[0mc\u001b[0m\u001b[0;34m=\u001b[0m\u001b[0;36m19.25\u001b[0m\u001b[0;34m\u001b[0m\u001b[0;34m\u001b[0m\u001b[0m\n\u001b[1;32m      4\u001b[0m \u001b[0;31m#conversion of int to float\u001b[0m\u001b[0;34m\u001b[0m\u001b[0;34m\u001b[0m\u001b[0;34m\u001b[0m\u001b[0m\n\u001b[0;32m----> 5\u001b[0;31m \u001b[0mx\u001b[0m\u001b[0;34m=\u001b[0m\u001b[0mfloat\u001b[0m\u001b[0;34m(\u001b[0m\u001b[0mb\u001b[0m\u001b[0;34m)\u001b[0m\u001b[0;34m\u001b[0m\u001b[0;34m\u001b[0m\u001b[0m\n\u001b[0m\u001b[1;32m      6\u001b[0m \u001b[0mprint\u001b[0m\u001b[0;34m(\u001b[0m\u001b[0;34m\"x value is=\"\u001b[0m\u001b[0;34m,\u001b[0m\u001b[0mx\u001b[0m\u001b[0;34m)\u001b[0m\u001b[0;34m\u001b[0m\u001b[0;34m\u001b[0m\u001b[0m\n",
            "\u001b[0;31mTypeError\u001b[0m: can't convert complex to float"
          ]
        }
      ]
    },
    {
      "cell_type": "markdown",
      "source": [
        "cannot convert complex to int and complex to float"
      ],
      "metadata": {
        "id": "WmaoIJSDlvte"
      }
    },
    {
      "cell_type": "code",
      "source": [
        "a=55555555599699\n",
        "b=21e6\n",
        "c=2+3j\n",
        "type(c)"
      ],
      "metadata": {
        "colab": {
          "base_uri": "https://localhost:8080/"
        },
        "id": "7yzz7wqvHvFt",
        "outputId": "7f5fa911-4044-4764-fb27-cc3d8c86b5c2"
      },
      "execution_count": null,
      "outputs": [
        {
          "output_type": "execute_result",
          "data": {
            "text/plain": [
              "complex"
            ]
          },
          "metadata": {},
          "execution_count": 15
        }
      ]
    },
    {
      "cell_type": "code",
      "source": [
        "a=\"0.6\"\n",
        "b=\"3+9j\"\n",
        "print(\"the result is\",a+b)\n",
        "type(a+b)"
      ],
      "metadata": {
        "colab": {
          "base_uri": "https://localhost:8080/"
        },
        "id": "sh4JTEvMKZIV",
        "outputId": "75a58a2d-e3bf-4742-e459-acf9b1f39f69"
      },
      "execution_count": null,
      "outputs": [
        {
          "output_type": "stream",
          "name": "stdout",
          "text": [
            "the result is 0.63+9j\n"
          ]
        },
        {
          "output_type": "execute_result",
          "data": {
            "text/plain": [
              "str"
            ]
          },
          "metadata": {},
          "execution_count": 33
        }
      ]
    },
    {
      "cell_type": "code",
      "source": [
        "a=int(input(\"enter the value of a\"))\n",
        "b=int(input(\"enter the value of b\"))\n",
        "print(\"the value of addtion\",a+b)\n",
        "type(a+b)"
      ],
      "metadata": {
        "colab": {
          "base_uri": "https://localhost:8080/"
        },
        "id": "9xbXWIn3NDRu",
        "outputId": "dae7977f-acc9-4ced-d179-d62bcef90ded"
      },
      "execution_count": null,
      "outputs": [
        {
          "output_type": "stream",
          "name": "stdout",
          "text": [
            "enter the value of a2\n",
            "enter the value of b3\n",
            "the value of addtion 5\n"
          ]
        },
        {
          "output_type": "execute_result",
          "data": {
            "text/plain": [
              "int"
            ]
          },
          "metadata": {},
          "execution_count": 39
        }
      ]
    },
    {
      "cell_type": "code",
      "source": [
        "print(\"hello\",\"world\",\"kartheek\",sep=\"\\!\")"
      ],
      "metadata": {
        "colab": {
          "base_uri": "https://localhost:8080/"
        },
        "id": "eWBP-WcWPy_U",
        "outputId": "b620d1b3-8915-43b6-8581-08bba16f4c65"
      },
      "execution_count": null,
      "outputs": [
        {
          "output_type": "stream",
          "name": "stdout",
          "text": [
            "hello\\!world\\!kartheek\n"
          ]
        }
      ]
    },
    {
      "cell_type": "code",
      "source": [
        ""
      ],
      "metadata": {
        "id": "tlyu0SDIoy-e"
      },
      "execution_count": null,
      "outputs": []
    },
    {
      "cell_type": "markdown",
      "source": [
        ""
      ],
      "metadata": {
        "id": "mvtKSPfeOUGl"
      }
    },
    {
      "cell_type": "markdown",
      "source": [
        "there are two types of tyoe conversions\n",
        "1).implict\n",
        "2)explict---------datatype(varaiable)"
      ],
      "metadata": {
        "id": "6AhRY-b_N77w"
      }
    },
    {
      "cell_type": "code",
      "source": [
        "#distance between the two points\n",
        "\n",
        "x1=int(input(\"enter x1 value=\"))\n",
        "x2=int(input(\"enter x2 value=\"))\n",
        "y1=int(input(\"enter y1 value=\"))\n",
        "y2=int(input(\"enter y2 value=\"))\n",
        "x=((x2-x1)**2)\n",
        "y=((y2-y1)**2)\n",
        "distance=((x+y)**0.5)\n",
        "print(\"the distance between is\",distance)\n"
      ],
      "metadata": {
        "id": "iukykqA2MbwC",
        "colab": {
          "base_uri": "https://localhost:8080/"
        },
        "outputId": "7d5e298c-deb8-4dc8-adf5-09c88af0af9c"
      },
      "execution_count": null,
      "outputs": [
        {
          "output_type": "stream",
          "name": "stdout",
          "text": [
            "enter x1 value=1\n",
            "enter x2 value=2\n",
            "enter y1 value=3\n",
            "enter y2 value=4\n",
            "the distance between is 1.4142135623730951\n"
          ]
        }
      ]
    },
    {
      "cell_type": "markdown",
      "source": [
        "for squareing in pyton\n",
        "example:\n",
        "two square\n",
        "x=2\n",
        "y=x**2"
      ],
      "metadata": {
        "id": "unWAzq2do9Ll"
      }
    },
    {
      "cell_type": "code",
      "source": [
        "'print the number form 1 upto n using for loop'\n",
        "n=int(input(\"enter n value\"))\n",
        "for i in range(1,n+1,1):\n",
        "  print(i,end=\" \")"
      ],
      "metadata": {
        "colab": {
          "base_uri": "https://localhost:8080/"
        },
        "id": "ohP_hT777Gqg",
        "outputId": "a97ab3e6-c35b-4347-e5af-fb73ccf9d795"
      },
      "execution_count": null,
      "outputs": [
        {
          "output_type": "stream",
          "name": "stdout",
          "text": [
            "enter n value10\n",
            "1 2 3 4 5 6 7 8 9 10 "
          ]
        }
      ]
    },
    {
      "cell_type": "code",
      "source": [
        "n=int(input(\"enter n value \"))\n",
        "print (\"the even number upto:\",n)\n",
        "for i in range(2,n,2):\n",
        "  print(i,end=\" \")"
      ],
      "metadata": {
        "colab": {
          "base_uri": "https://localhost:8080/"
        },
        "id": "FP-O0CD_8PMP",
        "outputId": "d6d63039-f987-49e2-a84e-25192e39842e"
      },
      "execution_count": null,
      "outputs": [
        {
          "output_type": "stream",
          "name": "stdout",
          "text": [
            "enter n value 60\n",
            "the even number upto: 60\n",
            "2 4 6 8 10 12 14 16 18 20 22 24 26 28 30 32 34 36 38 40 42 44 46 48 50 52 54 56 58 "
          ]
        }
      ]
    },
    {
      "cell_type": "code",
      "source": [
        "'sum palindrome'\n",
        "n=int(input(\"enter n value\"))\n",
        "for i in range (5):\n",
        "  n1=n\n",
        "  r=0\n",
        "  rev=0\n",
        "  while n!=0:\n",
        "    r=n%10\n",
        "    rev=((rev*10)+r)\n",
        "    n=n//10\n",
        "  if rev==n1:\n",
        "    print(\"the given number is palindrom\",rev)\n",
        "    break\n",
        "  else:\n",
        "    n=rev+n1\n",
        "\n"
      ],
      "metadata": {
        "colab": {
          "base_uri": "https://localhost:8080/"
        },
        "id": "2w13hQUV-6Mn",
        "outputId": "4bcee339-b022-4742-b4ff-8ada00a8bbf9"
      },
      "execution_count": null,
      "outputs": [
        {
          "output_type": "stream",
          "name": "stdout",
          "text": [
            "enter n value456\n",
            "the given number is palindrom 1221\n"
          ]
        }
      ]
    },
    {
      "cell_type": "code",
      "source": [
        "'odd numnber'\n",
        "n=int(input(\"enter n value=\"))\n",
        "for i in range(1,n,2):\n",
        "  print(i,end=\" \")"
      ],
      "metadata": {
        "colab": {
          "base_uri": "https://localhost:8080/"
        },
        "id": "I1bFN6LACyWA",
        "outputId": "f1567737-b4c7-48ec-e65d-54067b594977"
      },
      "execution_count": null,
      "outputs": [
        {
          "output_type": "stream",
          "name": "stdout",
          "text": [
            "enter n value=9\n",
            "1 3 5 7 "
          ]
        }
      ]
    },
    {
      "cell_type": "code",
      "source": [
        "'given number is plaindromeor not'\n",
        "n=int(input(\"enter n value\"))\n",
        "n1=n\n",
        "r=0\n",
        "rev=0\n",
        "while n!=0:\n",
        "  r=n%10\n",
        "  rev=(rev*10)+r\n",
        "  n=n//10\n",
        "if rev==n1:\n",
        "  print(\"the given number is palindrome\",n1)\n",
        "else:\n",
        "  print(\"the number is not palindrome\")"
      ],
      "metadata": {
        "colab": {
          "base_uri": "https://localhost:8080/"
        },
        "id": "xz5JNuWXDNX4",
        "outputId": "9f986990-93f4-4b14-b73f-7339363faebf"
      },
      "execution_count": null,
      "outputs": [
        {
          "output_type": "stream",
          "name": "stdout",
          "text": [
            "enter n value85\n",
            "the number is not palindrome\n"
          ]
        }
      ]
    },
    {
      "cell_type": "code",
      "source": [
        "'fibonacci'\n",
        "n=int(input(\"enter n value\"))\n",
        "a=0\n",
        "b=1\n",
        "print(\"the fibanocci sequence are:\",a,\" \",b)\n",
        "for i in range(3,n+1):\n",
        "  c=a+b\n",
        "  print(c,end=\" \")\n",
        "  a=b\n",
        "  b=c"
      ],
      "metadata": {
        "colab": {
          "base_uri": "https://localhost:8080/"
        },
        "id": "kqPSye6OEg7v",
        "outputId": "7b262681-21f4-43b0-b886-6dfdd6beb71d"
      },
      "execution_count": null,
      "outputs": [
        {
          "output_type": "stream",
          "name": "stdout",
          "text": [
            "enter n value9\n",
            "the fibanocci sequence are: 0   1\n",
            "1 2 3 5 8 13 21 "
          ]
        }
      ]
    },
    {
      "cell_type": "code",
      "source": [
        "n=int(input(\"enter n value\"))\n",
        "a=0\n",
        "b=1\n",
        "print(\"the fibanocci sequence are:\",a,\" \",b)\n",
        "for i in range(3,n+1):\n",
        "  c=a+b\n",
        "  a=b\n",
        "  b=c\n",
        "print(c,end=\" \")\n"
      ],
      "metadata": {
        "colab": {
          "base_uri": "https://localhost:8080/"
        },
        "id": "KRDbJ-GhGFQH",
        "outputId": "580a436d-d3e2-40ad-ebe4-ab369ef7df25"
      },
      "execution_count": null,
      "outputs": [
        {
          "output_type": "stream",
          "name": "stdout",
          "text": [
            "enter n value9\n",
            "the fibanocci sequence are: 0   1\n",
            "21 "
          ]
        }
      ]
    },
    {
      "cell_type": "code",
      "source": [
        "'even fibonacci'\n",
        "n=int(input(\"enter n value\"))\n",
        "sum=0\n",
        "a=0\n",
        "b=1\n",
        "for i in range(2,n+1):\n",
        "  c=a+b\n",
        "  a=b\n",
        "  b=c\n",
        "  if i%2==0:\n",
        "    sum=sum+c\n",
        "print(\"sum of even index value is=\",sum)"
      ],
      "metadata": {
        "colab": {
          "base_uri": "https://localhost:8080/"
        },
        "id": "_8N3P4SGGkeg",
        "outputId": "c5c96efa-36e3-40e6-8990-4c3e391bd2ec"
      },
      "execution_count": null,
      "outputs": [
        {
          "output_type": "stream",
          "name": "stdout",
          "text": [
            "enter n value6\n",
            "sum of even index value is= 12\n"
          ]
        }
      ]
    },
    {
      "cell_type": "code",
      "source": [
        "'to construct the following pattern'\n",
        "n=int(input(\"enter n row=\"))\n",
        "for i in range(1,n+1):\n",
        "  for j in range(1,i+1):\n",
        "    print(\"*\",end=\" \")\n",
        "  print()\n",
        "for i in range(1,n):\n",
        "  for ij in range(1,n-i+1):\n",
        "    print(\"*\",end=\" \")\n",
        "  print()"
      ],
      "metadata": {
        "colab": {
          "base_uri": "https://localhost:8080/"
        },
        "id": "k8OqBNQ4H5Do",
        "outputId": "e535fb97-d16f-470d-8565-1cbc3fa1770d"
      },
      "execution_count": null,
      "outputs": [
        {
          "output_type": "stream",
          "name": "stdout",
          "text": [
            "enter n value=5\n",
            "* \n",
            "* * \n",
            "* * * \n",
            "* * * * \n",
            "* * * * * \n",
            "* * * * \n",
            "* * * \n",
            "* * \n",
            "* \n"
          ]
        }
      ]
    },
    {
      "cell_type": "code",
      "source": [
        "'enter the foloowing pattern of number'\n",
        "n=int(input(\"enter no ofrows=\"))\n",
        "k=1\n",
        "for i in range(1,n+1):\n",
        "  for j in range(1,i+1):\n",
        "    print(k,end=\" \")\n",
        "    k=k+1\n",
        "  print()"
      ],
      "metadata": {
        "colab": {
          "base_uri": "https://localhost:8080/"
        },
        "id": "Jra3YobXJNkp",
        "outputId": "e9f88e6d-bd3b-457e-e262-6906a473f579"
      },
      "execution_count": null,
      "outputs": [
        {
          "output_type": "stream",
          "name": "stdout",
          "text": [
            "enter no ofrows=4\n",
            "1 \n",
            "2 3 \n",
            "4 5 6 \n",
            "7 8 9 10 \n"
          ]
        }
      ]
    },
    {
      "cell_type": "code",
      "source": [
        "str=\"sri vasavi engg \"\n",
        "for ch in str:\n",
        "  print(ch,end=\" \")"
      ],
      "metadata": {
        "colab": {
          "base_uri": "https://localhost:8080/"
        },
        "id": "8Aou1RSQLwXf",
        "outputId": "a6291221-6b1c-466b-93c4-21826e255fdb"
      },
      "execution_count": null,
      "outputs": [
        {
          "output_type": "stream",
          "name": "stdout",
          "text": [
            "s r i   v a s a v i   e n g g   6 "
          ]
        }
      ]
    },
    {
      "cell_type": "code",
      "source": [
        "str=\"sri vasavi engg college\"\n",
        "print(\"**\",end=\" \")\n",
        "for i in str:\n",
        "  if i=='o':\n",
        "    pass\n",
        "  else:\n",
        "    print(i,end=\" \")\n",
        "    \n",
        "print(\"**\")\n"
      ],
      "metadata": {
        "colab": {
          "base_uri": "https://localhost:8080/"
        },
        "id": "y35hYa-_NuU_",
        "outputId": "898086f5-ed03-4201-cac3-faf6ae062087"
      },
      "execution_count": null,
      "outputs": [
        {
          "output_type": "stream",
          "name": "stdout",
          "text": [
            "** s r i   v a s a v i   e n g g   c l l e g e **\n"
          ]
        }
      ]
    },
    {
      "cell_type": "code",
      "source": [
        "while false:\n",
        "  print(\"hello world\")\n",
        "  "
      ],
      "metadata": {
        "colab": {
          "base_uri": "https://localhost:8080/",
          "height": 200
        },
        "id": "h-UTt5ucPoHW",
        "outputId": "a3908782-ed44-43a0-93f3-a5fbb598d62b"
      },
      "execution_count": null,
      "outputs": [
        {
          "output_type": "error",
          "ename": "NameError",
          "evalue": "ignored",
          "traceback": [
            "\u001b[0;31m---------------------------------------------------------------------------\u001b[0m",
            "\u001b[0;31mNameError\u001b[0m                                 Traceback (most recent call last)",
            "\u001b[0;32m<ipython-input-107-c7eb403071c3>\u001b[0m in \u001b[0;36m<module>\u001b[0;34m()\u001b[0m\n\u001b[0;32m----> 1\u001b[0;31m \u001b[0;32mwhile\u001b[0m \u001b[0mfalse\u001b[0m\u001b[0;34m:\u001b[0m\u001b[0;34m\u001b[0m\u001b[0;34m\u001b[0m\u001b[0m\n\u001b[0m\u001b[1;32m      2\u001b[0m   \u001b[0mprint\u001b[0m\u001b[0;34m(\u001b[0m\u001b[0;34m\"hello world\"\u001b[0m\u001b[0;34m)\u001b[0m\u001b[0;34m\u001b[0m\u001b[0;34m\u001b[0m\u001b[0m\n\u001b[1;32m      3\u001b[0m \u001b[0;34m\u001b[0m\u001b[0m\n",
            "\u001b[0;31mNameError\u001b[0m: name 'false' is not defined"
          ]
        }
      ]
    },
    {
      "cell_type": "code",
      "source": [
        "'functions'\n",
        "def show(str):\n",
        "  print(str,end=\" \")\n",
        "  str=\"morning\"\n",
        "  print(str)\n",
        "str=\"hello\"\n",
        "show(str)\n",
        "print(str)"
      ],
      "metadata": {
        "id": "cGryHq-zPXsm",
        "colab": {
          "base_uri": "https://localhost:8080/"
        },
        "outputId": "d582343b-0c38-4410-d57f-a515aeb668d1"
      },
      "execution_count": 10,
      "outputs": [
        {
          "output_type": "stream",
          "name": "stdout",
          "text": [
            "hello morning\n",
            "hello\n"
          ]
        }
      ]
    },
    {
      "cell_type": "code",
      "source": [
        "def show():\n",
        "  global str\n",
        "  print(str)\n",
        "  str=\"morning\"\n",
        "  print(str)\n",
        "str=\"hello\"\n",
        "show()\n",
        "print(str)"
      ],
      "metadata": {
        "colab": {
          "base_uri": "https://localhost:8080/"
        },
        "id": "VaTenVLPApuB",
        "outputId": "03a45221-433d-41e5-ec87-cb3217142447"
      },
      "execution_count": 16,
      "outputs": [
        {
          "output_type": "stream",
          "name": "stdout",
          "text": [
            "hello\n",
            "morning\n",
            "morning\n"
          ]
        }
      ]
    },
    {
      "cell_type": "code",
      "source": [
        "#program to print add of two numbers\n",
        "def add(a,b):\n",
        "  return a+b\n",
        "a=int(input(\"enter a value=\"))\n",
        "b=int(input(\"enter b value=\"))\n",
        "print(\"the addition is\",add(a,b))\n"
      ],
      "metadata": {
        "colab": {
          "base_uri": "https://localhost:8080/"
        },
        "id": "175Opt-L-4aJ",
        "outputId": "38f069cc-c6c6-4666-b119-ba32554d634e"
      },
      "execution_count": 27,
      "outputs": [
        {
          "output_type": "stream",
          "name": "stdout",
          "text": [
            "enter a value=4\n",
            "enter b value=6\n",
            "the addition is 10\n"
          ]
        }
      ]
    },
    {
      "cell_type": "code",
      "source": [
        "#perfect number\n",
        "n=int(input(\"enter n value \"))\n",
        "sum=0\n",
        "for i in range(1,n):\n",
        "  if n%i==0:\n",
        "    sum=sum+i\n",
        "if(sum==n):\n",
        "  print(n,\"is perfect number\")\n",
        "else:\n",
        "  print(n,\"is not perfect number\")\n",
        "      "
      ],
      "metadata": {
        "colab": {
          "base_uri": "https://localhost:8080/"
        },
        "id": "cQWkH7kaGOoZ",
        "outputId": "432128e4-066f-4be8-a058-84e097841c7d"
      },
      "execution_count": 33,
      "outputs": [
        {
          "output_type": "stream",
          "name": "stdout",
          "text": [
            "enter n value 6\n",
            "6 is perfect number\n"
          ]
        }
      ]
    },
    {
      "cell_type": "code",
      "source": [
        "def mean(l1):\n",
        "  a=sum(l1)/len(l1)\n",
        "  return a\n",
        "l1=[2,4,6]\n",
        "l2=[22,23,24]\n",
        "print(\"the mean of\",l1,\"is\", mean(l1))\n",
        "print(\"the mean of\",l2,\"is\",mean(l2))\n"
      ],
      "metadata": {
        "colab": {
          "base_uri": "https://localhost:8080/"
        },
        "id": "nO4UpZLJJDsY",
        "outputId": "5809c01d-92b6-4beb-c5d0-f1114ccff94c"
      },
      "execution_count": 4,
      "outputs": [
        {
          "output_type": "stream",
          "name": "stdout",
          "text": [
            "the mean of [2, 4, 6] is 4.0\n",
            "the mean of [22, 23, 24] is 23.0\n"
          ]
        }
      ]
    },
    {
      "cell_type": "code",
      "source": [
        ""
      ],
      "metadata": {
        "id": "76L__cssP6NQ"
      },
      "execution_count": null,
      "outputs": []
    },
    {
      "cell_type": "code",
      "source": [
        "list1=[30,40,60,70,80,50,90]\n",
        "list1.sort()\n",
        "print(list1)"
      ],
      "metadata": {
        "colab": {
          "base_uri": "https://localhost:8080/"
        },
        "id": "JfhxeFLaMhIB",
        "outputId": "5b2b6921-3dd7-4b80-801d-00ee2f2798b5"
      },
      "execution_count": 56,
      "outputs": [
        {
          "output_type": "stream",
          "name": "stdout",
          "text": [
            "[30, 40, 50, 60, 70, 80, 90]\n"
          ]
        }
      ]
    },
    {
      "cell_type": "code",
      "source": [
        "def median(l):\n",
        "  n=len(l)\n",
        "  sum=0\n",
        "  l.sort()\n",
        "\n",
        "  if(n%2==0):\n",
        "    sum=l[(n//2)]+l[(n//2)-1]\n",
        "    m=float(sum/2)\n",
        "  else:\n",
        "    m=l[(n)//2]\n",
        "  print(\"median=\",m)\n",
        "l1=[6,4,5,1,3,7]\n",
        "median(l1)"
      ],
      "metadata": {
        "colab": {
          "base_uri": "https://localhost:8080/"
        },
        "id": "o_3h5uzTJCZP",
        "outputId": "dca1e318-be0d-4a5f-ba8e-e8c45e7e87f2"
      },
      "execution_count": 2,
      "outputs": [
        {
          "output_type": "stream",
          "name": "stdout",
          "text": [
            "median= 4.5\n"
          ]
        }
      ]
    },
    {
      "cell_type": "code",
      "source": [
        "import statistics as st\n",
        "item=[6,1,8,2,3]\n",
        "st.median(item)"
      ],
      "metadata": {
        "colab": {
          "base_uri": "https://localhost:8080/"
        },
        "id": "FwYT0hP4ThCm",
        "outputId": "4c2a57bb-8203-4357-b767-40a8155139cb"
      },
      "execution_count": 3,
      "outputs": [
        {
          "output_type": "execute_result",
          "data": {
            "text/plain": [
              "3"
            ]
          },
          "metadata": {},
          "execution_count": 3
        }
      ]
    },
    {
      "cell_type": "code",
      "source": [
        "import numpy as np\n",
        "#create a list\n",
        "ls=[3,1,4,9,2,5,6,3]\n",
        "print(np.median(ls))"
      ],
      "metadata": {
        "colab": {
          "base_uri": "https://localhost:8080/"
        },
        "id": "m1N_R7c2T8_m",
        "outputId": "7b986ce7-b016-4cc4-d3c5-f840be24b634"
      },
      "execution_count": 5,
      "outputs": [
        {
          "output_type": "stream",
          "name": "stdout",
          "text": [
            "3.5\n"
          ]
        }
      ]
    },
    {
      "cell_type": "code",
      "source": [
        "d={1:100,2:200}\n",
        "print(d.keys())\n",
        "print(d.values())\n",
        "print(d[1])\n",
        "print(d[2])\n",
        "d[1]=1000\n",
        "print(d[1])\n",
        "print(d)"
      ],
      "metadata": {
        "colab": {
          "base_uri": "https://localhost:8080/"
        },
        "id": "jQV4E1I3WTcG",
        "outputId": "cffdb4ff-eebd-4320-d747-2d8da3deef09"
      },
      "execution_count": 8,
      "outputs": [
        {
          "output_type": "stream",
          "name": "stdout",
          "text": [
            "dict_keys([1, 2])\n",
            "dict_values([100, 200])\n",
            "100\n",
            "200\n",
            "1000\n",
            "{1: 1000, 2: 200}\n"
          ]
        }
      ]
    },
    {
      "cell_type": "markdown",
      "source": [
        ""
      ],
      "metadata": {
        "id": "vWOayu0iOPwC"
      }
    },
    {
      "cell_type": "markdown",
      "source": [
        ""
      ],
      "metadata": {
        "id": "-EzuTyLEOTuC"
      }
    }
  ]
}